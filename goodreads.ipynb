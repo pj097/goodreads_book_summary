{
 "cells": [
  {
   "cell_type": "code",
   "execution_count": 1,
   "id": "15534dff-7429-4b0b-802a-bdb6be8632f1",
   "metadata": {},
   "outputs": [],
   "source": [
    "import pandas as pd\n",
    "import plotly.graph_objects as go\n",
    "import dash\n",
    "from dash import Dash, dcc, html, Input, Output, callback\n",
    "from io import StringIO\n",
    "from base64 import b64decode"
   ]
  },
  {
   "cell_type": "code",
   "execution_count": 8,
   "id": "99d6cf77-dec8-450f-b06d-e5d42d2cee99",
   "metadata": {},
   "outputs": [],
   "source": [
    "def plot_cum_count(df, column='Date Added'):\n",
    "    date_added = pd.to_datetime(df[column]).sort_values(ascending=True)\n",
    "    \n",
    "    fig = go.Figure()\n",
    "    for year, g in date_added.groupby(date_added.dt.year, sort=False):\n",
    "        fig.add_trace(\n",
    "            go.Scatter(\n",
    "                x=g.apply(lambda x: x.replace(year=2024)).unique(), \n",
    "                y=g.value_counts(sort=False).cumsum(), \n",
    "                name=year,\n",
    "                opacity=0.8,\n",
    "                mode='lines',\n",
    "            )\n",
    "        )\n",
    "    fig.update_layout(\n",
    "        yaxis_title='Cumulative count',\n",
    "        legend_title_text='Year',\n",
    "        xaxis=dict(\n",
    "            tickformatstops=[\n",
    "                dict(dtickrange=[None, 'M1'], value='%e %b'),\n",
    "                dict(dtickrange=['M1', None], value='%b')\n",
    "            ],\n",
    "            ticklabelmode='period', title='Date'\n",
    "        ),\n",
    "        title='Books by year', title_x=0.5\n",
    "    )\n",
    "    return fig"
   ]
  },
  {
   "cell_type": "code",
   "execution_count": 9,
   "id": "9583db13-9247-4675-b08e-ddabd834003a",
   "metadata": {},
   "outputs": [],
   "source": [
    "app = Dash()\n",
    "app.layout = html.Div([\n",
    "    dcc.Upload(\n",
    "        id='upload',\n",
    "        accept='.csv',\n",
    "        children=[html.Button('Upload File')]\n",
    "    ), html.Br(),\n",
    "    dcc.Dropdown([''], '', id='feature_dropdown'),\n",
    "    dcc.Graph(id='cum_count_graph'),\n",
    "])\n",
    "\n",
    "@callback(\n",
    "    Output('cum_count_graph', 'figure'),\n",
    "    Output('feature_dropdown', 'options'),\n",
    "    Input('upload', 'contents'),\n",
    "    Input('feature_dropdown', 'value'),\n",
    "    prevent_initial_call=True,\n",
    ")\n",
    "def update_output(file_contents, feature_dropdown):\n",
    "    df = pd.read_csv(\n",
    "        StringIO(\n",
    "            b64decode(file_contents.split(',')[1]).decode(\"utf-8\")\n",
    "        )\n",
    "    )\n",
    "    cum_count_graph = plot_cum_count(\n",
    "        df, column='Date Added'\n",
    "    )\n",
    "    return cum_count_graph, df.columns"
   ]
  },
  {
   "cell_type": "code",
   "execution_count": 10,
   "id": "9257e6e1-7954-4a63-be34-f0a5cd3a2bfc",
   "metadata": {},
   "outputs": [
    {
     "data": {
      "text/html": [
       "\n",
       "        <iframe\n",
       "            width=\"100%\"\n",
       "            height=\"650\"\n",
       "            src=\"http://127.0.0.1:8050/\"\n",
       "            frameborder=\"0\"\n",
       "            allowfullscreen\n",
       "            \n",
       "        ></iframe>\n",
       "        "
      ],
      "text/plain": [
       "<IPython.lib.display.IFrame at 0x7f319f673a70>"
      ]
     },
     "metadata": {},
     "output_type": "display_data"
    }
   ],
   "source": [
    "app.run(jupyter_mode='inline')"
   ]
  },
  {
   "cell_type": "code",
   "execution_count": null,
   "id": "d72a0969-4ede-43c6-a924-acafa207b812",
   "metadata": {},
   "outputs": [],
   "source": []
  },
  {
   "cell_type": "code",
   "execution_count": null,
   "id": "6048fcea-ea55-4ff1-8a2a-1a5e257c8371",
   "metadata": {},
   "outputs": [],
   "source": []
  },
  {
   "cell_type": "code",
   "execution_count": null,
   "id": "6c37f189-187a-4f41-bcf5-204a1f67b345",
   "metadata": {},
   "outputs": [],
   "source": []
  },
  {
   "cell_type": "code",
   "execution_count": null,
   "id": "82e3b5ed-51cc-496d-b74f-27b70eaab369",
   "metadata": {},
   "outputs": [],
   "source": []
  }
 ],
 "metadata": {
  "kernelspec": {
   "display_name": "Python 3 (ipykernel)",
   "language": "python",
   "name": "python3"
  },
  "language_info": {
   "codemirror_mode": {
    "name": "ipython",
    "version": 3
   },
   "file_extension": ".py",
   "mimetype": "text/x-python",
   "name": "python",
   "nbconvert_exporter": "python",
   "pygments_lexer": "ipython3",
   "version": "3.12.7"
  }
 },
 "nbformat": 4,
 "nbformat_minor": 5
}
